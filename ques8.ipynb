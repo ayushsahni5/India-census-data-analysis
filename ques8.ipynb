{
 "cells": [
  {
   "cell_type": "markdown",
   "id": "ee3c4cca",
   "metadata": {},
   "source": [
    "# Analysis based on age-group of males and females"
   ]
  },
  {
   "cell_type": "code",
   "execution_count": 30,
   "id": "fbf0750b",
   "metadata": {},
   "outputs": [],
   "source": [
    "import pandas as pd\n",
    "\n",
    "age_wise_pop=pd.read_excel('Datasets/c-14.xls')\n",
    "\n",
    "pd.options.mode.chained_assignment = None   #to hide settingwithcopy warning\n",
    "\n",
    "#refining c-14 dataset\n",
    "age_wise_pop=age_wise_pop.rename(columns={'C-14 POPULATION IN FIVE YEAR AGE-GROUP BY RESIDENCE AND SEX ':'age-group','Unnamed: 1':'state-code','Unnamed: 6':'tot males','Unnamed: 7':'tot females'})\n",
    "age_wise_pop=age_wise_pop[['state-code','age-group','tot males','tot females']]\n",
    "age_wise_pop=age_wise_pop[(age_wise_pop['age-group']=='5-9')|(age_wise_pop['age-group']=='10-14')|(age_wise_pop['age-group']=='15-19')|(age_wise_pop['age-group']=='20-24')|(age_wise_pop['age-group']=='25-29')|(age_wise_pop['age-group']=='30-34')|(age_wise_pop['age-group']=='35-39')|(age_wise_pop['age-group']=='40-44')|(age_wise_pop['age-group']=='45-49')|(age_wise_pop['age-group']=='50-54')|(age_wise_pop['age-group']=='55-59')|(age_wise_pop['age-group']=='60-64')|(age_wise_pop['age-group']=='65-69')|(age_wise_pop['age-group']=='70-74')|(age_wise_pop['age-group']=='75-79')|(age_wise_pop['age-group']=='80+')]\n",
    "\n",
    "\n",
    "#c-14 dataset contains age groups 30-34,35-39,40-44,...  whereas c-18 dataset contains age groups 30-49,50-69,70+  so I will merge age groups in c-14 to make it like c-18\n",
    "#to make c-14 and c-18 similar, our only option is to merge ages in c-14. We cant break ages in c-18 according to c-14\n",
    "my_df=pd.DataFrame()\n",
    "k=0\n",
    "while k<len(age_wise_pop):\n",
    "       \n",
    "    if (k%16)==5:   #this position is of 30-34 age group. From here onwards we have to perform 3 mergings\n",
    "        \n",
    "        #making 30-49 age group\n",
    "        tot_males=age_wise_pop['tot males'].iloc[k]+age_wise_pop['tot males'].iloc[k+1]+age_wise_pop['tot males'].iloc[k+2]+age_wise_pop['tot males'].iloc[k+3]\n",
    "        tot_females=age_wise_pop['tot females'].iloc[k]+age_wise_pop['tot females'].iloc[k+1]+age_wise_pop['tot females'].iloc[k+2]+age_wise_pop['tot females'].iloc[k+3]\n",
    "        my_df=my_df.append({'state-code':age_wise_pop['state-code'].iloc[k],'age-group':'30-49','tot males':tot_males,'tot females':tot_females},ignore_index=True)\n",
    "        k=k+4\n",
    "        \n",
    "        #making 50-69 age group\n",
    "        tot_males=age_wise_pop['tot males'].iloc[k]+age_wise_pop['tot males'].iloc[k+1]+age_wise_pop['tot males'].iloc[k+2]+age_wise_pop['tot males'].iloc[k+3]\n",
    "        tot_females=age_wise_pop['tot females'].iloc[k]+age_wise_pop['tot females'].iloc[k+1]+age_wise_pop['tot females'].iloc[k+2]+age_wise_pop['tot females'].iloc[k+3]\n",
    "        my_df=my_df.append({'state-code':age_wise_pop['state-code'].iloc[k],'age-group':'50-69','tot males':tot_males,'tot females':tot_females},ignore_index=True)\n",
    "        k=k+4\n",
    "        \n",
    "        #making 70+ age group\n",
    "        tot_males=age_wise_pop['tot males'].iloc[k]+age_wise_pop['tot males'].iloc[k+1]+age_wise_pop['tot males'].iloc[k+2]\n",
    "        tot_females=age_wise_pop['tot females'].iloc[k]+age_wise_pop['tot females'].iloc[k+1]+age_wise_pop['tot females'].iloc[k+2]\n",
    "        my_df=my_df.append({'state-code':age_wise_pop['state-code'].iloc[k],'age-group':'70+','tot males':tot_males,'tot females':tot_females},ignore_index=True)\n",
    "        k=k+3\n",
    "        \n",
    "    else:\n",
    "        my_df=my_df.append(age_wise_pop.iloc[k])\n",
    "        k=k+1\n",
    "        \n",
    "        \n",
    "my_df=my_df[['state-code','age-group','tot males','tot females']]   #this  dataframe will be used later so we will not change it .\n"
   ]
  },
  {
   "cell_type": "markdown",
   "id": "f162364f",
   "metadata": {},
   "source": [
    "### Part-a  3 or more languages"
   ]
  },
  {
   "cell_type": "code",
   "execution_count": 31,
   "id": "cd728eff",
   "metadata": {},
   "outputs": [],
   "source": [
    "#loading c18 dataset\n",
    "age_wise_3ormore=pd.read_excel('Datasets/c-18.xlsx')\n",
    "age_wise_3ormore=age_wise_3ormore.rename(columns={'C-18 POPULATION BY BILINGUALISM, TRILINGUALISM, AGE AND SEX':'state-code','Unnamed: 3':'TRU', 'Unnamed: 4':'age-group','Unnamed: 9':'males speaking 3 or more','Unnamed: 10':'females speaking 3 or more'})\n",
    "age_wise_3ormore=age_wise_3ormore[['state-code','TRU','age-group','males speaking 3 or more','females speaking 3 or more']]\n",
    "\n",
    "#removing irrelevant rows from c-18 dataframe\n",
    "age_wise_3ormore=age_wise_3ormore[(age_wise_3ormore['age-group']=='5-9')|(age_wise_3ormore['age-group']=='10-14')|(age_wise_3ormore['age-group']=='15-19')|(age_wise_3ormore['age-group']=='20-24')|(age_wise_3ormore['age-group']=='25-29')|(age_wise_3ormore['age-group']=='30-49')|(age_wise_3ormore['age-group']=='50-69')|(age_wise_3ormore['age-group']=='70+')]\n",
    "age_wise_3ormore=age_wise_3ormore[(age_wise_3ormore['TRU']=='Total')]\n",
    "\n",
    "#removing irrelevant columns from c-18\n",
    "age_wise_3ormore=age_wise_3ormore[['state-code','age-group','males speaking 3 or more','females speaking 3 or more']]\n",
    "\n",
    "my_df2=pd.merge(my_df,age_wise_3ormore)\n",
    "\n",
    "#FOR MALES\n",
    "my_df3=my_df2[['state-code','age-group']]\n",
    "my_df3['ratio-males']=my_df2['males speaking 3 or more']/my_df2['tot males']\n",
    "#finding max ratio males who speak 3 or more language for each state-code\n",
    "idx = my_df3.groupby(['state-code'])['ratio-males'].transform(max) == my_df3['ratio-males']\n",
    "my_df3=my_df3[idx]\n",
    "my_df3.rename(columns={'age-group':'age-group-males'},inplace=True)\n",
    "\n",
    "\n",
    "#FOR FEMALES\n",
    "my_df4=my_df2[['state-code','age-group']]\n",
    "my_df4['ratio-females']=my_df2['females speaking 3 or more']/my_df2['tot females']\n",
    "#finding max ratio females who speak 3 or more language for each state-code\n",
    "idx = my_df4.groupby(['state-code'])['ratio-females'].transform(max) == my_df4['ratio-females']\n",
    "my_df4=my_df4[idx]\n",
    "my_df4.rename(columns={'age-group':'age-group-females'},inplace=True)\n"
   ]
  },
  {
   "cell_type": "markdown",
   "id": "41ab853c",
   "metadata": {},
   "source": [
    "#### Creation of part-a output file"
   ]
  },
  {
   "cell_type": "code",
   "execution_count": 32,
   "id": "1d1973ff",
   "metadata": {},
   "outputs": [],
   "source": [
    "my_df3=pd.merge(my_df3,my_df4)\n",
    "my_df3.rename(columns={'state-code':'state/ut'},inplace=True)\n",
    "my_df3.to_csv('output files/age-gender-a.csv',index=False)"
   ]
  },
  {
   "cell_type": "markdown",
   "id": "ab5f57a2",
   "metadata": {},
   "source": [
    "# \n",
    "### Part-b exactly 2 languages"
   ]
  },
  {
   "cell_type": "code",
   "execution_count": 33,
   "id": "86130dc7",
   "metadata": {},
   "outputs": [],
   "source": [
    "c18_df=pd.read_excel('Datasets/c-18.xlsx')\n",
    "#C-18 dataframe column names\n",
    "#'C-18 POPULATION BY BILINGUALISM, TRILINGUALISM, AGE AND SEX' denotes state code\n",
    "#'Unnamed: 1' denotes district code\n",
    "#'Unnamed: 2' denotes country/state/UT\n",
    "#'Unnamed: 3' denotes Total/rural/urban \n",
    "#'Unnamed: 4' denotes Age-group(Total,5-9 age,10-14 age,...)\n",
    "#'Unnamed: 5' denotes number of males+females who speak 2 or more language\n",
    "#'Unnamed: 6' denotes number of males who speak 2 or more language\n",
    "#'Unnamed: 7' denotes number of females who speak 2 or more language\n",
    "#'Unnamed: 8' denotes number of males+females who speak 3 or more language\n",
    "#'Unnamed: 9' denotes number of males who speak 3 or more language\n",
    "#'Unnamed: 10' denotes number of females who speak 3 or more language\n",
    "c18_df=c18_df[(c18_df['Unnamed: 3']=='Total') & (c18_df['Unnamed: 4']!='Total')& (c18_df['Unnamed: 4']!='Age not stated')]  #removing rural/urban rows. Also removing 'Total' age-group rows\n",
    "c18_df=c18_df[['C-18 POPULATION BY BILINGUALISM, TRILINGUALISM, AGE AND SEX','Unnamed: 4','Unnamed: 6','Unnamed: 7','Unnamed: 9','Unnamed: 10']]\n",
    "c18_df=c18_df.rename(columns={'C-18 POPULATION BY BILINGUALISM, TRILINGUALISM, AGE AND SEX':'state-code','Unnamed: 4':'age-group','Unnamed: 6':'males who speak 2 or more','Unnamed: 7':'females who speak 2 or more','Unnamed: 9':'males who speak 3 or more','Unnamed: 10':'females who speak 3 or more'})\n",
    "\n",
    "c18_df=pd.merge(c18_df,my_df)  #merging is costly operation. If code takes more time to run then it can be replaced with append function.\n",
    "\n",
    "#finding lingualism columns for males and females\n",
    "c18_df['males who speak exactly 1']=c18_df['tot males']-c18_df['males who speak 2 or more']\n",
    "c18_df['females who speak exactly 1']=c18_df['tot females']-c18_df['females who speak 2 or more']\n",
    "c18_df['males who speak exactly 2']=c18_df['tot males']-c18_df['males who speak exactly 1']-c18_df['males who speak 3 or more']\n",
    "c18_df['females who speak exactly 2']=c18_df['tot females']-c18_df['females who speak exactly 1']-c18_df['females who speak 3 or more']\n",
    "\n",
    "\n",
    "\n",
    "new_df=c18_df[['state-code','age-group','males who speak exactly 2','tot males']]\n",
    "new_df['ratio-males']=new_df['males who speak exactly 2']/new_df['tot males']\n",
    "\n",
    "#for each state, finding highest ratio of males\n",
    "idx = new_df.groupby(['state-code'])['ratio-males'].transform(max) == new_df['ratio-males']\n",
    "new_df=new_df[idx]\n",
    "\n",
    "\n",
    "new_df2=c18_df[['state-code','age-group','females who speak exactly 2','tot females']]\n",
    "new_df2['ratio-females']=new_df2['females who speak exactly 2']/new_df2['tot females']\n",
    "\n",
    "#for each state, finding the highest ratio of females\n",
    "idx = new_df2.groupby(['state-code'])['ratio-females'].transform(max) == new_df2['ratio-females']\n",
    "new_df2=new_df2[idx]\n"
   ]
  },
  {
   "cell_type": "markdown",
   "id": "82db7c80",
   "metadata": {},
   "source": [
    "### Creation of part-b file"
   ]
  },
  {
   "cell_type": "code",
   "execution_count": 34,
   "id": "f79b8976",
   "metadata": {},
   "outputs": [],
   "source": [
    "new_df.rename(columns={'age-group':'age-group-males','state-code':'state/ut'},inplace=True)\n",
    "new_df2.rename(columns={'age-group':'age-group-females','state-code':'state/ut'},inplace=True)\n",
    "new_df=new_df[['state/ut','age-group-males','ratio-males']]\n",
    "new_df2=new_df2[['state/ut','age-group-females','ratio-females']]\n",
    "new_df=pd.merge(new_df,new_df2)\n",
    "new_df.to_csv('output files/age-gender-b.csv',index=False)"
   ]
  },
  {
   "cell_type": "markdown",
   "id": "cbe475bd",
   "metadata": {},
   "source": [
    "# \n",
    "## Part-c Exactly 1 language"
   ]
  },
  {
   "cell_type": "code",
   "execution_count": 35,
   "id": "9653c553",
   "metadata": {},
   "outputs": [],
   "source": [
    "new_df=c18_df[['state-code','age-group','males who speak exactly 1','tot males']]\n",
    "new_df['ratio-males']=new_df['males who speak exactly 1']/new_df['tot males']\n",
    "\n",
    "#for each state, finding the highest ratio of males who speak exactly 1 language\n",
    "idx = new_df.groupby(['state-code'])['ratio-males'].transform(max) == new_df['ratio-males']\n",
    "new_df=new_df[idx]\n",
    "\n",
    "\n",
    "new_df2=c18_df[['state-code','age-group','females who speak exactly 1','tot females']]\n",
    "new_df2['ratio-females']=new_df2['females who speak exactly 1']/new_df2['tot females']\n",
    "\n",
    "#for each state, finding the highest ratio of females who speak exactly 1 language\n",
    "idx = new_df2.groupby(['state-code'])['ratio-females'].transform(max) == new_df2['ratio-females']\n",
    "new_df2=new_df2[idx]"
   ]
  },
  {
   "cell_type": "markdown",
   "id": "bcc14727",
   "metadata": {},
   "source": [
    "### Creation of part-c file"
   ]
  },
  {
   "cell_type": "code",
   "execution_count": 36,
   "id": "7bcb1089",
   "metadata": {},
   "outputs": [],
   "source": [
    "new_df.rename(columns={'age-group':'age-group-males','state-code':'state/ut'},inplace=True)\n",
    "new_df2.rename(columns={'age-group':'age-group-females','state-code':'state/ut'},inplace=True)\n",
    "new_df=new_df[['state/ut','age-group-males','ratio-males']]\n",
    "new_df2=new_df2[['state/ut','age-group-females','ratio-females']]\n",
    "new_df=pd.merge(new_df,new_df2)\n",
    "new_df.to_csv('output files/age-gender-c.csv',index=False)"
   ]
  },
  {
   "cell_type": "code",
   "execution_count": null,
   "id": "fdba0272",
   "metadata": {},
   "outputs": [],
   "source": []
  }
 ],
 "metadata": {
  "kernelspec": {
   "display_name": "Python 3",
   "language": "python",
   "name": "python3"
  },
  "language_info": {
   "codemirror_mode": {
    "name": "ipython",
    "version": 3
   },
   "file_extension": ".py",
   "mimetype": "text/x-python",
   "name": "python",
   "nbconvert_exporter": "python",
   "pygments_lexer": "ipython3",
   "version": "3.8.8"
  }
 },
 "nbformat": 4,
 "nbformat_minor": 5
}
