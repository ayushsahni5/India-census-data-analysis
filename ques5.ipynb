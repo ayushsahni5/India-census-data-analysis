{
 "cells": [
  {
   "cell_type": "markdown",
   "id": "9e202328",
   "metadata": {},
   "source": [
    "### Refining C-14 dataset"
   ]
  },
  {
   "cell_type": "code",
   "execution_count": 2,
   "id": "4f18d376",
   "metadata": {},
   "outputs": [],
   "source": [
    "import pandas as pd\n",
    "\n",
    "pd.options.mode.chained_assignment = None   #to hide settingwithcopy warning\n",
    "\n",
    "age_wise_pop=pd.read_excel('Datasets/c-14.xls')\n",
    "#refining c-14 dataset\n",
    "age_wise_pop=age_wise_pop.rename(columns={'C-14 POPULATION IN FIVE YEAR AGE-GROUP BY RESIDENCE AND SEX ':'age-group','Unnamed: 1':'state-code','Unnamed: 5':'tot people'})\n",
    "age_wise_pop=age_wise_pop[['state-code','age-group','tot people']]\n",
    "age_wise_pop=age_wise_pop[(age_wise_pop['age-group']=='5-9')|(age_wise_pop['age-group']=='10-14')|(age_wise_pop['age-group']=='15-19')|(age_wise_pop['age-group']=='20-24')|(age_wise_pop['age-group']=='25-29')|(age_wise_pop['age-group']=='30-34')|(age_wise_pop['age-group']=='35-39')|(age_wise_pop['age-group']=='40-44')|(age_wise_pop['age-group']=='45-49')|(age_wise_pop['age-group']=='50-54')|(age_wise_pop['age-group']=='55-59')|(age_wise_pop['age-group']=='60-64')|(age_wise_pop['age-group']=='65-69')|(age_wise_pop['age-group']=='70-74')|(age_wise_pop['age-group']=='75-79')|(age_wise_pop['age-group']=='80+')]\n",
    "\n",
    "\n",
    "#MERGING AGE_GROUPS IN C_14: c-14 dataset contains age groups 30-34,35-39,40-44,...  whereas c-18 dataset contains age groups 30-49,50-69,70+  so I will merge age groups in c-14 to make it like c-18\n",
    "#to make c-14 and c-18 similar, our only option is to merge ages in c-14. We cant break ages in c-18 according to c-14\n",
    "my_df=pd.DataFrame()\n",
    "k=0\n",
    "while k<len(age_wise_pop):\n",
    "       \n",
    "    if (k%16)==5:   #this position is of 30-34 age group. From here onwards we have to perform 3 mergings\n",
    "        \n",
    "        #making 30-49 age group\n",
    "        tot_pop=age_wise_pop['tot people'].iloc[k]+age_wise_pop['tot people'].iloc[k+1]+age_wise_pop['tot people'].iloc[k+2]+age_wise_pop['tot people'].iloc[k+3]\n",
    "        my_df=my_df.append({'state-code':age_wise_pop['state-code'].iloc[k],'age-group':'30-49','tot people':tot_pop},ignore_index=True)\n",
    "        k=k+4\n",
    "        \n",
    "        #making 50-69 age group\n",
    "        tot_pop=age_wise_pop['tot people'].iloc[k]+age_wise_pop['tot people'].iloc[k+1]+age_wise_pop['tot people'].iloc[k+2]+age_wise_pop['tot people'].iloc[k+3]\n",
    "        my_df=my_df.append({'state-code':age_wise_pop['state-code'].iloc[k],'age-group':'50-69','tot people':tot_pop},ignore_index=True)\n",
    "        k=k+4\n",
    "        \n",
    "        #making 70+ age group\n",
    "        tot_pop=age_wise_pop['tot people'].iloc[k]+age_wise_pop['tot people'].iloc[k+1]+age_wise_pop['tot people'].iloc[k+2]\n",
    "        my_df=my_df.append({'state-code':age_wise_pop['state-code'].iloc[k],'age-group':'70+','tot people':tot_pop},ignore_index=True)\n",
    "        k=k+3\n",
    "        \n",
    "    else:\n",
    "        my_df=my_df.append(age_wise_pop.iloc[k])\n",
    "        k=k+1\n",
    "        \n",
    "        \n",
    "my_df=my_df[['state-code','age-group','tot people']]\n",
    "\n",
    "#######################Now age groups have been merged according to c-18 census dataset##################\n",
    "\n",
    "\n"
   ]
  },
  {
   "cell_type": "markdown",
   "id": "da6035aa",
   "metadata": {},
   "source": [
    "### Refining C-18 dataset"
   ]
  },
  {
   "cell_type": "code",
   "execution_count": 3,
   "id": "aba08a12",
   "metadata": {},
   "outputs": [],
   "source": [
    "age_wise_3ormore=pd.read_excel('Datasets/c-18.xlsx')\n",
    "age_wise_3ormore=age_wise_3ormore.rename(columns={'C-18 POPULATION BY BILINGUALISM, TRILINGUALISM, AGE AND SEX':'state-code','Unnamed: 3':'TRU', 'Unnamed: 4':'age-group','Unnamed: 8':'people speaking 3 or more'})\n",
    "age_wise_3ormore=age_wise_3ormore[['state-code','TRU','age-group','people speaking 3 or more']]\n",
    "\n",
    "#removing irrelevant rows from c-18 dataframe\n",
    "age_wise_3ormore=age_wise_3ormore[(age_wise_3ormore['age-group']=='5-9')|(age_wise_3ormore['age-group']=='10-14')|(age_wise_3ormore['age-group']=='15-19')|(age_wise_3ormore['age-group']=='20-24')|(age_wise_3ormore['age-group']=='25-29')|(age_wise_3ormore['age-group']=='30-49')|(age_wise_3ormore['age-group']=='50-69')|(age_wise_3ormore['age-group']=='70+')]\n",
    "age_wise_3ormore=age_wise_3ormore[(age_wise_3ormore['TRU']=='Total')]\n",
    "\n",
    "#removing irrelevant columns from c-18\n",
    "age_wise_3ormore=age_wise_3ormore[['state-code','age-group','people speaking 3 or more']]\n"
   ]
  },
  {
   "cell_type": "markdown",
   "id": "0bfc75af",
   "metadata": {},
   "source": [
    "### Finding required ratio of people speaking 3 or more languages to total no of people in that age group"
   ]
  },
  {
   "cell_type": "code",
   "execution_count": 4,
   "id": "0afc1a00",
   "metadata": {},
   "outputs": [],
   "source": [
    "my_df=pd.merge(my_df,age_wise_3ormore)\n",
    "my_df['ratio']=my_df['people speaking 3 or more']/my_df['tot people']\n",
    "\n",
    "#finding max ratio for each state-code\n",
    "idx = my_df.groupby(['state-code'])['ratio'].transform(max) == my_df['ratio']\n",
    "my_df=my_df[idx]\n",
    "my_df['percentage']=my_df['ratio']*100"
   ]
  },
  {
   "cell_type": "code",
   "execution_count": 5,
   "id": "cf793257",
   "metadata": {},
   "outputs": [],
   "source": [
    "#creating age-india.csv file\n",
    "my_df=my_df[['state-code','age-group','percentage']]\n",
    "my_df.rename(columns={'state-code':'state/ut'},inplace=True)\n",
    "my_df.to_csv('output files/age-india.csv',index=False)"
   ]
  },
  {
   "cell_type": "code",
   "execution_count": null,
   "id": "b948b825",
   "metadata": {},
   "outputs": [],
   "source": []
  }
 ],
 "metadata": {
  "kernelspec": {
   "display_name": "Python 3",
   "language": "python",
   "name": "python3"
  },
  "language_info": {
   "codemirror_mode": {
    "name": "ipython",
    "version": 3
   },
   "file_extension": ".py",
   "mimetype": "text/x-python",
   "name": "python",
   "nbconvert_exporter": "python",
   "pygments_lexer": "ipython3",
   "version": "3.8.8"
  }
 },
 "nbformat": 4,
 "nbformat_minor": 5
}
