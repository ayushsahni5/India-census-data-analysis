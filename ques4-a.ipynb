{
 "cells": [
  {
   "cell_type": "markdown",
   "id": "e272653e",
   "metadata": {},
   "source": [
    "## Ratio of population speaking languages three or more to exactly two"
   ]
  },
  {
   "cell_type": "code",
   "execution_count": 6,
   "id": "9a677522",
   "metadata": {},
   "outputs": [],
   "source": [
    "'''Note that ratio of population speaking three or more language to exactly two language is same as ratio of\n",
    "column 'percent three' to column 'percent two'. '''\n",
    "\n",
    "\n",
    "import pandas as pd\n",
    "\n",
    "pd.options.mode.chained_assignment = None   #to hide settingwithcopy warning\n",
    "\n",
    "#Here, I will use percent-india.csv file generated in ques1\n",
    "ques4_df1=pd.read_csv('output files/percent-india.csv')\n",
    "\n"
   ]
  },
  {
   "cell_type": "markdown",
   "id": "db896d77",
   "metadata": {},
   "source": [
    "$$\\frac{(percent \\quad three)}{(percent \\quad two)}=\\frac{\\text{(who speak 3 or more)*100/total population}}{\\text{(who speak excatly 2)*100/total population}}$$\n",
    "$$ $$\n",
    "$$=\\frac{\\text{who speak 3 or more}}{\\text{who speak exactly 2}}$$"
   ]
  },
  {
   "cell_type": "code",
   "execution_count": 7,
   "id": "c3984949",
   "metadata": {},
   "outputs": [],
   "source": [
    "#computing 3-or-more to exactly-2 language ratio\n",
    "ques4_df1['3 to 2 ratio']=ques4_df1['percent-three']/ques4_df1['percent-two']\n",
    "ques4_df1.sort_values(by=['3 to 2 ratio'],ascending=False,inplace=True)  # sorting in descending order by column '3 to 2 ratio'\n",
    "ques4_df2=ques4_df1.tail(n=3)   #taking last 3 rows\n",
    "ques4_df2.sort_values(by=['3 to 2 ratio'],inplace=True)\n",
    "ques4_df2=ques4_df2[['state-code']]\n",
    "ques4_df1=ques4_df1.head(n=3)   #taking first 3 rows\n",
    "ques4_df1=ques4_df1[['state-code']]\n",
    "ques4_df1=pd.merge(ques4_df1,ques4_df2,how='outer')\n",
    "ques4_df1.to_csv('output files/3-to-2-ratio.csv',index=False)"
   ]
  },
  {
   "cell_type": "code",
   "execution_count": null,
   "id": "47a20df1",
   "metadata": {},
   "outputs": [],
   "source": []
  }
 ],
 "metadata": {
  "kernelspec": {
   "display_name": "Python 3",
   "language": "python",
   "name": "python3"
  },
  "language_info": {
   "codemirror_mode": {
    "name": "ipython",
    "version": 3
   },
   "file_extension": ".py",
   "mimetype": "text/x-python",
   "name": "python",
   "nbconvert_exporter": "python",
   "pygments_lexer": "ipython3",
   "version": "3.8.8"
  }
 },
 "nbformat": 4,
 "nbformat_minor": 5
}
