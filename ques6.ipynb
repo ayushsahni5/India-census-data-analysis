{
 "cells": [
  {
   "cell_type": "markdown",
   "id": "15ea6e78",
   "metadata": {},
   "source": [
    "# Analysis of population based on literacy group"
   ]
  },
  {
   "cell_type": "code",
   "execution_count": 4,
   "id": "14fb395c",
   "metadata": {},
   "outputs": [],
   "source": [
    "'''literate w/o edu level is absent in c-19 so remove it\n",
    "removing literate column because its finer subdivisions are present'''\n",
    "import pandas as pd\n",
    "\n",
    "pd.options.mode.chained_assignment = None   #to hide settingwithcopy warning\n",
    "\n"
   ]
  },
  {
   "cell_type": "markdown",
   "id": "29a2b4a4",
   "metadata": {},
   "source": [
    "## Processing C-8 dataset"
   ]
  },
  {
   "cell_type": "code",
   "execution_count": 5,
   "id": "ab71a43e",
   "metadata": {},
   "outputs": [],
   "source": [
    "#loading c8 dataset into dataframe\n",
    "c8_df=pd.read_excel('Datasets/c-8.xlsx')\n",
    "\n",
    "#keeoing only these : combined age group(rather than 5-9,10-14 ,etc) and total population(urban + rural combined) \n",
    "c8_df=c8_df[(c8_df['C-8  EDUCATIONAL LEVEL BY AGE AND SEX FOR POPULATION AGE 7 AND ABOVE - 2011']=='All ages')&(c8_df['Unnamed: 4']=='Total')]\n",
    "#renaming columns\n",
    "c8_df.rename(columns={'Unnamed: 1':'state/ut','Unnamed: 9':'Illiterate','Unnamed: 18':'Literate but below primary','Unnamed: 21':'Primary but below middle','Unnamed: 24':'Middle but below matric/secondary','Unnamed: 27':'Matric','Unnamed: 30':'Intermed','Unnamed: 33':'Non tech diploma','Unnamed: 36':'Tech diploma','Unnamed: 39':'Graduate and above'},inplace=True)\n",
    "#keeing only relevant columns\n",
    "c8_df=c8_df[['state/ut','Illiterate','Literate but below primary','Primary but below middle','Middle but below matric/secondary','Matric','Intermed','Non tech diploma','Tech diploma','Graduate and above']]\n",
    "\n",
    "#MERGING and summing the columns 'matric' , 'intermediate', 'non-tech diploma', 'tech diploma' to make new column 'Matric/secondary but below graduate'\n",
    "#I am doing this to make it consistent with C19 dataset\n",
    "c8_df['Matric/Secondary but below graduate']=c8_df['Matric']+c8_df['Intermed']+c8_df['Non tech diploma']+c8_df['Tech diploma']\n",
    "#filtering unwanted columns\n",
    "c8_df=c8_df[['state/ut','Illiterate','Literate but below primary','Primary but below middle','Middle but below matric/secondary','Matric/Secondary but below graduate','Graduate and above']]\n",
    "\n",
    "#changing the structure of dataframe table using python's melt function to make it easier to to merge with C19 dataframe\n",
    "c8_df=c8_df.melt(id_vars=[\"state/ut\"], var_name=\"edu level\", value_name='total people')\n",
    "c8_df=c8_df.sort_values(by=['state/ut']) #sorting by state/ut"
   ]
  },
  {
   "cell_type": "code",
   "execution_count": 6,
   "id": "5a35d668",
   "metadata": {},
   "outputs": [],
   "source": [
    "#loading C19 dataset\n",
    "c19_df=pd.read_excel('Datasets/c-19.xlsx')\n",
    "c19_df.rename(columns={'C-19 POPULATION BY BILINGUALISM, TRILINGUALISM, EDUCATIONAL LEVEL AND SEX':'state/ut','Unnamed: 3':'TRU','Unnamed: 4':'edu level','Unnamed: 8':'3 or more'},inplace=True)\n",
    "c19_df=c19_df[['state/ut','TRU','edu level','3 or more']]\n",
    "c19_df=c19_df.loc[6:,] #rows number 0 to 5 are useless\n",
    "c19_df=c19_df[(c19_df['TRU']=='Total')&(c19_df['edu level']!='Total')]# keeping only total(rural+urban) and total education level\n",
    "c19_df=c19_df[c19_df['edu level']!='Literate']  #removing literate rows\n",
    "c19_df=c19_df[['state/ut','edu level','3 or more']]\n"
   ]
  },
  {
   "cell_type": "code",
   "execution_count": 7,
   "id": "18f4d4ea",
   "metadata": {},
   "outputs": [],
   "source": [
    "#mergin c8 and c19\n",
    "merged_df=pd.merge(c8_df,c19_df)\n",
    "merged_df['percentage']=(merged_df['3 or more']/merged_df['total people'])*100\n",
    "\n"
   ]
  },
  {
   "cell_type": "markdown",
   "id": "057cff12",
   "metadata": {},
   "source": [
    "### Finding literacy group for each state that has the highest percentage of people speaking three languages or more"
   ]
  },
  {
   "cell_type": "code",
   "execution_count": 8,
   "id": "5a7b994a",
   "metadata": {},
   "outputs": [],
   "source": [
    "idx = merged_df.groupby(['state/ut'])['percentage'].transform(max) == merged_df['percentage']\n",
    "merged_df=merged_df[idx]\n",
    "merged_df=merged_df[['state/ut','edu level','percentage']]\n",
    "merged_df.rename(columns={'edu level':'literacy-group'},inplace=True)\n",
    "\n",
    "#Creation of output file\n",
    "merged_df.to_csv('output files/literacy-india.csv',index=False)"
   ]
  },
  {
   "cell_type": "code",
   "execution_count": null,
   "id": "c9e6fa0e",
   "metadata": {},
   "outputs": [],
   "source": []
  }
 ],
 "metadata": {
  "kernelspec": {
   "display_name": "Python 3",
   "language": "python",
   "name": "python3"
  },
  "language_info": {
   "codemirror_mode": {
    "name": "ipython",
    "version": 3
   },
   "file_extension": ".py",
   "mimetype": "text/x-python",
   "name": "python",
   "nbconvert_exporter": "python",
   "pygments_lexer": "ipython3",
   "version": "3.8.8"
  }
 },
 "nbformat": 4,
 "nbformat_minor": 5
}
