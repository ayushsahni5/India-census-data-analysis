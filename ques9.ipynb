{
 "cells": [
  {
   "cell_type": "markdown",
   "id": "8d5a139a",
   "metadata": {},
   "source": [
    "# Analysis based on literacy group for males and females separately"
   ]
  },
  {
   "cell_type": "code",
   "execution_count": 22,
   "id": "a9db39d8",
   "metadata": {},
   "outputs": [],
   "source": [
    "import pandas as pd\n",
    "\n",
    "pd.options.mode.chained_assignment = None   #to hide settingwithcopy warning\n",
    "\n",
    "#loading and refining c8 dataset\n",
    "c8_df=pd.read_excel('Datasets/c-8.xlsx')\n",
    "c8_df=c8_df[(c8_df['C-8  EDUCATIONAL LEVEL BY AGE AND SEX FOR POPULATION AGE 7 AND ABOVE - 2011']=='All ages')&(c8_df['Unnamed: 4']=='Total')]\n",
    "c8_df.rename(columns={'Unnamed: 1':'state/ut','Unnamed: 10':'Illiterate males','Unnamed: 11':'Illiterate females','Unnamed: 19':'Literate but below primary males','Unnamed: 20':'Literate but below primary females','Unnamed: 22':'Primary but below middle males','Unnamed: 23':'Primary but below middle females','Unnamed: 25':'Middle but below matric/secondary males','Unnamed: 26':'Middle but below matric/secondary females','Unnamed: 28':'Matric males','Unnamed: 29':'Matric females','Unnamed: 31':'Intermed males','Unnamed: 32':'Intermed females','Unnamed: 34':'Non tech diploma males','Unnamed: 35':'Non tech diploma females','Unnamed: 37':'Tech diploma males','Unnamed: 38':'Tech diploma females','Unnamed: 40':'Graduate and above males','Unnamed: 41':'Graduate and above females'},inplace=True)\n",
    "c8_df=c8_df[['state/ut','Illiterate males','Illiterate females','Literate but below primary males','Literate but below primary females','Primary but below middle males','Primary but below middle females','Middle but below matric/secondary males','Middle but below matric/secondary females','Matric males','Matric females','Intermed males','Intermed females','Non tech diploma males','Non tech diploma females','Tech diploma males','Tech diploma females','Graduate and above males','Graduate and above females']]\n",
    "\n",
    "#MERGING and summing the columns 'matric males' , 'intermediate' males, 'non-tech diploma males', 'tech diploma males' to make new column 'Matric/secondary but below graduate males'\n",
    "#I am doing this to make it consistent with C19 dataset\n",
    "c8_df['Matric/Secondary but below graduate males']=c8_df['Matric males']+c8_df['Intermed males']+c8_df['Non tech diploma males']+c8_df['Tech diploma males']\n",
    "#Doing the above for females also\n",
    "c8_df['Matric/Secondary but below graduate females']=c8_df['Matric females']+c8_df['Intermed females']+c8_df['Non tech diploma females']+c8_df['Tech diploma females']\n",
    "\n",
    "#keeping only relevant columns\n",
    "c8_df=c8_df[['state/ut','Illiterate males','Illiterate females','Literate but below primary males','Literate but below primary females','Primary but below middle males','Primary but below middle females','Middle but below matric/secondary males','Middle but below matric/secondary females','Matric/Secondary but below graduate males','Matric/Secondary but below graduate females','Graduate and above males','Graduate and above females']]\n",
    "\n",
    "#changing the strucure of c18 dataframe using python's melt function. This will be useful when we will merge c8 and c19\n",
    "c8_df=c8_df.melt(id_vars=[\"state/ut\"], var_name=\"edu level\", value_name='tot')\n",
    "\n",
    "c8_df=c8_df.sort_values(by=['state/ut','edu level'])  \n"
   ]
  },
  {
   "cell_type": "markdown",
   "id": "bfdda2cd",
   "metadata": {},
   "source": [
    "### Making C8 dataset similar to C19 dataset (converting columns of C8 into rows)"
   ]
  },
  {
   "cell_type": "code",
   "execution_count": 23,
   "id": "542606e4",
   "metadata": {},
   "outputs": [],
   "source": [
    "myl=list(c8_df['tot'])\n",
    "list_males=[]\n",
    "list_fem=[]\n",
    "for i in range(len(myl)):\n",
    "    if i%2==0:\n",
    "        list_fem.append(myl[i])\n",
    "    else:\n",
    "        list_males.append(myl[i])\n",
    "        \n",
    "c8_df.replace(to_replace=' males',value='',regex=True,inplace=True)\n",
    "c8_df.replace(to_replace=' females',value='',regex=True,inplace=True)\n",
    "c8_df=c8_df.groupby(['state/ut','edu level']).sum()\n",
    "c8_df=c8_df.reset_index()  #resetting index because groupby has been applied(Groupby changes how we access the indices)\n",
    "c8_df=c8_df[['state/ut','edu level']]\n",
    "\n",
    "#finding total males and females in each literacy groups and creating new columns for them\n",
    "c8_df['males']=pd.DataFrame(list_males)\n",
    "c8_df['females']=pd.DataFrame(list_fem)\n"
   ]
  },
  {
   "cell_type": "markdown",
   "id": "434745c2",
   "metadata": {},
   "source": [
    "### Processing C19 dataset"
   ]
  },
  {
   "cell_type": "code",
   "execution_count": 24,
   "id": "fe24ca32",
   "metadata": {},
   "outputs": [],
   "source": [
    "c19_df=pd.read_excel('Datasets/c-19.xlsx')\n",
    "c19_df.rename(columns={'C-19 POPULATION BY BILINGUALISM, TRILINGUALISM, EDUCATIONAL LEVEL AND SEX':'state/ut','Unnamed: 3':'TRU','Unnamed: 4':'edu level','Unnamed: 6':'2 or more males','Unnamed: 7':'2 or more females','Unnamed: 9':'3 or more males','Unnamed: 10':'3 or more females'},inplace=True)\n",
    "c19_df=c19_df[['state/ut','TRU','edu level','2 or more males','2 or more females','3 or more males','3 or more females']]\n",
    "c19_df=c19_df.loc[6:,]\n",
    "c19_df=c19_df[(c19_df['TRU']=='Total')&(c19_df['edu level']!='Total')]\n",
    "c19_df=c19_df[c19_df['edu level']!='Literate']\n",
    "c19_df=c19_df[['state/ut','edu level','2 or more males','2 or more females','3 or more males','3 or more females']]\n",
    "\n",
    "\n",
    "#bringing in a column of total males and females in each literacy group\n",
    "c19_df=pd.merge(c19_df,c8_df)\n",
    "\n",
    "#finnding number of males and females who speak exactly 1 language\n",
    "c19_df['exactly 1 males']=c19_df['males']-c19_df['2 or more males']\n",
    "c19_df['exactly 1 females']=c19_df['females']-c19_df['2 or more females']\n",
    "\n",
    "#finding number of males and females speaking exactly 2 languages\n",
    "c19_df['exactly 2 males']=c19_df['males']-c19_df['3 or more males']-c19_df['exactly 1 males']\n",
    "c19_df['exactly 2 females']=c19_df['females']-c19_df['3 or more females']-c19_df['exactly 1 females']\n",
    "\n",
    "c19_df=c19_df[['state/ut','edu level','exactly 1 males','exactly 1 females','exactly 2 males','exactly 2 females','3 or more males','3 or more females','males','females']]\n",
    "#This modified c19_df will be used in parts a,b and c"
   ]
  },
  {
   "cell_type": "markdown",
   "id": "eadcc022",
   "metadata": {},
   "source": [
    "## Part-a  3 or more"
   ]
  },
  {
   "cell_type": "code",
   "execution_count": 25,
   "id": "0d37e90f",
   "metadata": {},
   "outputs": [],
   "source": [
    "parta_df1=c19_df[['state/ut','edu level','3 or more males','males']]\n",
    "parta_df1['ratio-males']=parta_df1['3 or more males']/parta_df1['males']\n",
    "\n",
    "#finding age group having max ratio-males\n",
    "idx = parta_df1.groupby(['state/ut'])['ratio-males'].transform(max) == parta_df1['ratio-males']\n",
    "parta_df1=parta_df1[idx]\n",
    "\n",
    "parta_df1.rename(columns={'edu level':'literacy-group-males'},inplace=True)\n",
    "\n",
    "\n",
    "\n",
    "parta_df2=c19_df[['state/ut','edu level','3 or more females','females']]\n",
    "parta_df2['ratio-females']=parta_df2['3 or more females']/parta_df2['females']\n",
    "\n",
    "#finding age group having max ratio-males\n",
    "idx = parta_df2.groupby(['state/ut'])['ratio-females'].transform(max) == parta_df2['ratio-females']\n",
    "parta_df2=parta_df2[idx]\n",
    "\n",
    "parta_df2.rename(columns={'edu level':'literacy-group-females'},inplace=True)\n",
    "\n",
    "parta_df1=pd.merge(parta_df1,parta_df2)\n",
    "parta_df1=parta_df1[['state/ut','literacy-group-males','ratio-males','literacy-group-females','ratio-females']]\n"
   ]
  },
  {
   "cell_type": "markdown",
   "id": "e9ddd84b",
   "metadata": {},
   "source": [
    "### Creation of output file"
   ]
  },
  {
   "cell_type": "code",
   "execution_count": 26,
   "id": "911db172",
   "metadata": {},
   "outputs": [],
   "source": [
    "parta_df1.to_csv('output files/literacy-gender-a.csv',index=False)"
   ]
  },
  {
   "cell_type": "markdown",
   "id": "34e426cd",
   "metadata": {},
   "source": [
    "# \n",
    "## Part-b  exactly 2"
   ]
  },
  {
   "cell_type": "code",
   "execution_count": 27,
   "id": "8336ad1b",
   "metadata": {},
   "outputs": [],
   "source": [
    "partb_df1=c19_df[['state/ut','edu level','exactly 2 males','males']]\n",
    "partb_df1['ratio-males']=partb_df1['exactly 2 males']/partb_df1['males']\n",
    "\n",
    "#finding age group having max ratio-males\n",
    "idx = partb_df1.groupby(['state/ut'])['ratio-males'].transform(max) == partb_df1['ratio-males']\n",
    "partb_df1=partb_df1[idx]\n",
    "\n",
    "partb_df1.rename(columns={'edu level':'literacy-group-males'},inplace=True)\n",
    "\n",
    "\n",
    "\n",
    "partb_df2=c19_df[['state/ut','edu level','exactly 2 females','females']]\n",
    "partb_df2['ratio-females']=partb_df2['exactly 2 females']/partb_df2['females']\n",
    "\n",
    "#finding age group having max ratio-males\n",
    "idx = partb_df2.groupby(['state/ut'])['ratio-females'].transform(max) == partb_df2['ratio-females']\n",
    "partb_df2=partb_df2[idx]\n",
    "\n",
    "partb_df2.rename(columns={'edu level':'literacy-group-females'},inplace=True)\n",
    "\n",
    "partb_df1=pd.merge(partb_df1,partb_df2)\n",
    "partb_df1=partb_df1[['state/ut','literacy-group-males','ratio-males','literacy-group-females','ratio-females']]\n"
   ]
  },
  {
   "cell_type": "markdown",
   "id": "bf3d0f13",
   "metadata": {},
   "source": [
    "### Creation of output file"
   ]
  },
  {
   "cell_type": "code",
   "execution_count": 28,
   "id": "e7ffe667",
   "metadata": {},
   "outputs": [],
   "source": [
    "partb_df1.to_csv('output files/literacy-gender-b.csv',index=False)"
   ]
  },
  {
   "cell_type": "markdown",
   "id": "c2c214c5",
   "metadata": {},
   "source": [
    "# \n",
    "## Part-c exactly 1"
   ]
  },
  {
   "cell_type": "code",
   "execution_count": 29,
   "id": "79f2cab8",
   "metadata": {},
   "outputs": [],
   "source": [
    "partc_df1=c19_df[['state/ut','edu level','exactly 1 males','males']]\n",
    "partc_df1['ratio-males']=partc_df1['exactly 1 males']/partc_df1['males']\n",
    "\n",
    "#finding age group having max ratio-males\n",
    "idx = partc_df1.groupby(['state/ut'])['ratio-males'].transform(max) == partc_df1['ratio-males']\n",
    "partc_df1=partc_df1[idx]\n",
    "\n",
    "partc_df1.rename(columns={'edu level':'literacy-group-males'},inplace=True)\n",
    "\n",
    "\n",
    "\n",
    "partc_df2=c19_df[['state/ut','edu level','exactly 1 females','females']]\n",
    "partc_df2['ratio-females']=partc_df2['exactly 1 females']/partc_df2['females']\n",
    "\n",
    "#finding age group having max ratio-males\n",
    "idx = partc_df2.groupby(['state/ut'])['ratio-females'].transform(max) == partc_df2['ratio-females']\n",
    "partc_df2=partc_df2[idx]\n",
    "\n",
    "partc_df2.rename(columns={'edu level':'literacy-group-females'},inplace=True)\n",
    "\n",
    "partc_df1=pd.merge(partc_df1,partc_df2)\n",
    "partc_df1=partc_df1[['state/ut','literacy-group-males','ratio-males','literacy-group-females','ratio-females']]\n"
   ]
  },
  {
   "cell_type": "markdown",
   "id": "41edb5e6",
   "metadata": {},
   "source": [
    "### Creation of output file"
   ]
  },
  {
   "cell_type": "code",
   "execution_count": 30,
   "id": "a4e0e1a5",
   "metadata": {},
   "outputs": [],
   "source": [
    "partc_df1.to_csv('output files/literacy-gender-c.csv',index=False)"
   ]
  },
  {
   "cell_type": "code",
   "execution_count": null,
   "id": "00ca466e",
   "metadata": {},
   "outputs": [],
   "source": []
  }
 ],
 "metadata": {
  "kernelspec": {
   "display_name": "Python 3",
   "language": "python",
   "name": "python3"
  },
  "language_info": {
   "codemirror_mode": {
    "name": "ipython",
    "version": 3
   },
   "file_extension": ".py",
   "mimetype": "text/x-python",
   "name": "python",
   "nbconvert_exporter": "python",
   "pygments_lexer": "ipython3",
   "version": "3.8.8"
  }
 },
 "nbformat": 4,
 "nbformat_minor": 5
}
