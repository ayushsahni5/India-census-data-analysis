{
 "cells": [
  {
   "cell_type": "markdown",
   "id": "9a1b90bd",
   "metadata": {},
   "source": [
    "## Creating a dataframe suitable for calculating p value "
   ]
  },
  {
   "cell_type": "code",
   "execution_count": 7,
   "id": "d0c495dd",
   "metadata": {},
   "outputs": [],
   "source": [
    "import pandas as pd\n",
    "\n",
    "pd.options.mode.chained_assignment = None   #to hide settingwithcopy warning\n",
    "\n",
    "age_wise_pop=pd.read_excel('Datasets/c-14.xls')\n",
    "\n",
    "#refining c-14 dataset. From c-14 dataset we will get total males and females in each state\n",
    "age_wise_pop=age_wise_pop.rename(columns={'C-14 POPULATION IN FIVE YEAR AGE-GROUP BY RESIDENCE AND SEX ':'age-group','Unnamed: 1':'state-code','Unnamed: 6':'tot males','Unnamed: 7':'tot females'})\n",
    "age_wise_pop=age_wise_pop[['state-code','age-group','tot males','tot females']]\n",
    "age_wise_pop=age_wise_pop[age_wise_pop['age-group']=='All ages']\n",
    "age_wise_pop=age_wise_pop[['state-code','tot males','tot females']]\n",
    "\n",
    "\n",
    "\n",
    "#C18 DATASET\n",
    "c18_df=pd.read_excel('Datasets/c-18.xlsx')\n",
    "#C-18 dataframe column names\n",
    "#'C-18 POPULATION BY BILINGUALISM, TRILINGUALISM, AGE AND SEX' denotes state code\n",
    "#'Unnamed: 1' denotes district code\n",
    "#'Unnamed: 2' denotes country/state/UT\n",
    "#'Unnamed: 3' denotes Total/rural/urban \n",
    "#'Unnamed: 4' denotes Age-group(Total,5-9 age,10-14 age,...)\n",
    "#'Unnamed: 5' denotes number of males+females who speak 2 or more language\n",
    "#'Unnamed: 6' denotes number of males who speak 2 or more language\n",
    "#'Unnamed: 7' denotes number of females who speak 2 or more language\n",
    "#'Unnamed: 8' denotes number of males+females who speak 3 or more language\n",
    "#'Unnamed: 9' denotes number of males who speak 3 or more language\n",
    "#'Unnamed: 10' denotes number of females who speak 3 or more language\n",
    "c18_df=c18_df[c18_df['Unnamed: 3']=='Total']  #removing rural/urban rows. \n",
    "c18_df=c18_df[c18_df['Unnamed: 4']=='Total']  #keeping only 'Total' age-group rows\n",
    "c18_df=c18_df[['C-18 POPULATION BY BILINGUALISM, TRILINGUALISM, AGE AND SEX','Unnamed: 4','Unnamed: 6','Unnamed: 7','Unnamed: 9','Unnamed: 10']]  #removing unwanted columns\n",
    "c18_df=c18_df.rename(columns={'C-18 POPULATION BY BILINGUALISM, TRILINGUALISM, AGE AND SEX':'state-code','Unnamed: 4':'age-group','Unnamed: 6':'males who speak 2 or more','Unnamed: 7':'females who speak 2 or more','Unnamed: 9':'males who speak 3 or more','Unnamed: 10':'females who speak 3 or more'})\n",
    "\n",
    "#Merging C-18 and C-14 dataframe\n",
    "c18_df=pd.merge(c18_df,age_wise_pop)\n",
    "\n",
    "#calculating number of males and females who speak exactly 1 and exactly two languages\n",
    "c18_df['males who speak exactly 1']=c18_df['tot males']-c18_df['males who speak 2 or more']\n",
    "c18_df['females who speak exactly 1']=c18_df['tot females']-c18_df['females who speak 2 or more']\n",
    "c18_df['males who speak exactly 2']=c18_df['tot males']-c18_df['males who speak exactly 1']-c18_df['males who speak 3 or more']\n",
    "c18_df['females who speak exactly 2']=c18_df['tot females']-c18_df['females who speak exactly 1']-c18_df['females who speak 3 or more']\n",
    "\n",
    "#calculating male to female ratios for exactly one, exactly two and 3 or more languages\n",
    "c18_df['m_to_f_1']=c18_df['males who speak exactly 1']/c18_df['females who speak exactly 1']\n",
    "c18_df['m_to_f_2']=c18_df['males who speak exactly 2']/c18_df['females who speak exactly 2']\n",
    "c18_df['m_to_f_3']=c18_df['males who speak 3 or more']/c18_df['females who speak 3 or more']\n",
    "c18_df['m_to_f']=c18_df['tot males']/c18_df['tot females']\n",
    "\n"
   ]
  },
  {
   "cell_type": "markdown",
   "id": "90bc3dd4",
   "metadata": {},
   "source": [
    "## Part-c  3 or more languages\n",
    "### calculating p value"
   ]
  },
  {
   "cell_type": "code",
   "execution_count": 8,
   "id": "0144f4bf",
   "metadata": {},
   "outputs": [],
   "source": [
    "from scipy.stats import ttest_ind\n",
    "from scipy import stats\n",
    "c18_df['p-value'] = c18_df.apply(lambda row: stats.ttest_1samp([row.m_to_f_1, row.m_to_f_2, row.m_to_f_3], popmean=row.m_to_f)[1], axis=1)\n"
   ]
  },
  {
   "cell_type": "markdown",
   "id": "607b937e",
   "metadata": {},
   "source": [
    "### Creation of part-a file"
   ]
  },
  {
   "cell_type": "code",
   "execution_count": 9,
   "id": "d4162245",
   "metadata": {},
   "outputs": [],
   "source": [
    "parta_df=c18_df[['state-code','males who speak 3 or more','tot males','females who speak 3 or more','tot females','p-value']]\n",
    "parta_df['male-percentage']=(parta_df['males who speak 3 or more']/parta_df['tot males'])*100\n",
    "parta_df['female-percentage']=(parta_df['females who speak 3 or more']/parta_df['tot females'])*100\n",
    "parta_df.rename(columns={'state-code':'state/ut'},inplace=True)\n",
    "parta_df=parta_df[['state/ut','male-percentage','female-percentage','p-value']]\n",
    "parta_df.rename(columns={'state/ut':'state-code'},inplace=True)\n",
    "parta_df.to_csv('output files/gender-india-c.csv',index=False)"
   ]
  },
  {
   "cell_type": "markdown",
   "id": "80413451",
   "metadata": {},
   "source": [
    "## Part-b  exactly 2 languages\n",
    "### calculating p-value"
   ]
  },
  {
   "cell_type": "code",
   "execution_count": 10,
   "id": "bb1d9850",
   "metadata": {},
   "outputs": [],
   "source": [
    "#the p-value will be same because arguments for p-value calculation are still the same"
   ]
  },
  {
   "cell_type": "markdown",
   "id": "4fb37b38",
   "metadata": {},
   "source": [
    "### creation of part-b file"
   ]
  },
  {
   "cell_type": "code",
   "execution_count": 11,
   "id": "66bbff09",
   "metadata": {},
   "outputs": [],
   "source": [
    "partb_df=c18_df[['state-code','males who speak exactly 2','tot males','females who speak exactly 2','tot females','p-value']]\n",
    "partb_df['male-percentage']=(partb_df['males who speak exactly 2']/partb_df['tot males'])*100\n",
    "partb_df['female-percentage']=(partb_df['females who speak exactly 2']/partb_df['tot females'])*100\n",
    "partb_df.rename(columns={'state-code':'state/ut'},inplace=True)\n",
    "partb_df=partb_df[['state/ut','male-percentage','female-percentage','p-value']]\n",
    "partb_df.rename(columns={'state/ut':'state-code'},inplace=True)\n",
    "partb_df.to_csv('output files/gender-india-b.csv',index=False)"
   ]
  },
  {
   "cell_type": "markdown",
   "id": "bca311e4",
   "metadata": {},
   "source": [
    "## Part-a  exactly 1 language\n",
    "### Creation of part-c file"
   ]
  },
  {
   "cell_type": "code",
   "execution_count": 12,
   "id": "1b36a1df",
   "metadata": {},
   "outputs": [],
   "source": [
    "partc_df=c18_df[['state-code','males who speak exactly 1','tot males','females who speak exactly 1','tot females','p-value']]\n",
    "partc_df['male-percentage']=(partc_df['males who speak exactly 1']/partc_df['tot males'])*100\n",
    "partc_df['female-percentage']=(partc_df['females who speak exactly 1']/partc_df['tot females'])*100\n",
    "partc_df.rename(columns={'state-code':'state/ut'},inplace=True)\n",
    "partc_df=partc_df[['state/ut','male-percentage','female-percentage','p-value']]\n",
    "partc_df.rename(columns={'state/ut':'state-code'},inplace=True)\n",
    "partc_df.to_csv('output files/gender-india-a.csv',index=False)"
   ]
  },
  {
   "cell_type": "code",
   "execution_count": null,
   "id": "fb404102",
   "metadata": {},
   "outputs": [],
   "source": []
  }
 ],
 "metadata": {
  "kernelspec": {
   "display_name": "Python 3",
   "language": "python",
   "name": "python3"
  },
  "language_info": {
   "codemirror_mode": {
    "name": "ipython",
    "version": 3
   },
   "file_extension": ".py",
   "mimetype": "text/x-python",
   "name": "python",
   "nbconvert_exporter": "python",
   "pygments_lexer": "ipython3",
   "version": "3.8.8"
  }
 },
 "nbformat": 4,
 "nbformat_minor": 5
}
