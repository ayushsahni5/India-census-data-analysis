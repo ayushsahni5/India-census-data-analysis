{
 "cells": [
  {
   "cell_type": "markdown",
   "id": "6aca5648",
   "metadata": {},
   "source": [
    "## Analysis of urban and rural population who speak exactly 1, exactly 2 and 3 or more languages"
   ]
  },
  {
   "cell_type": "code",
   "execution_count": 6,
   "id": "c38afc46",
   "metadata": {},
   "outputs": [],
   "source": [
    "import pandas as pd\n",
    "\n",
    "pd.options.mode.chained_assignment = None   #to hide settingwithcopy warning\n",
    "\n",
    "#loading c18 dataset\n",
    "c18_df=pd.read_excel('Datasets/c-18.xlsx')\n",
    "\n",
    "#rural dataframe\n",
    "rural_df=c18_df[(c18_df['Unnamed: 3']=='Rural') & (c18_df['Unnamed: 4']=='Total')]\n",
    "rural_df.rename(columns={'C-18 POPULATION BY BILINGUALISM, TRILINGUALISM, AGE AND SEX':'state/ut','Unnamed: 5':'2 or more rural','Unnamed: 8':'3 or more rural'},inplace=True)\n",
    "rural_df=rural_df[['state/ut','2 or more rural','3 or more rural']]\n",
    "\n",
    "#urban dataframe\n",
    "urban_df=c18_df[(c18_df['Unnamed: 3']=='Urban') & (c18_df['Unnamed: 4']=='Total')]\n",
    "urban_df.rename(columns={'C-18 POPULATION BY BILINGUALISM, TRILINGUALISM, AGE AND SEX':'state/ut','Unnamed: 5':'2 or more urban','Unnamed: 8':'3 or more urban'},inplace=True)\n",
    "urban_df=urban_df[['state/ut','2 or more urban','3 or more urban']]\n",
    "\n",
    "#combining rural and urban data in separate columns\n",
    "c18_df=pd.merge(rural_df,urban_df)\n",
    "\n",
    "#free memory occupied by useless dataframes\n",
    "temp_list=[urban_df,rural_df]\n",
    "del temp_list\n",
    "\n",
    "\n",
    "#finding rural and urban total population state wise\n",
    "c14_df=pd.read_excel('Datasets/c-14.xls')\n",
    "c14_df.rename(columns={'Unnamed: 1':'state/ut','C-14 POPULATION IN FIVE YEAR AGE-GROUP BY RESIDENCE AND SEX ':'age-group','Unnamed: 8':'total rural','Unnamed: 11':'total urban'},inplace=True)\n",
    "c14_df=c14_df[c14_df['age-group']=='All ages']\n",
    "c14_df=c14_df[['state/ut','total rural','total urban']]\n",
    "\n",
    "\n",
    "\n",
    "\n",
    "#creating a dataframe which will have every required column\n",
    "c18_df=pd.merge(c18_df,c14_df)\n",
    "c18_df['exactly 1 rural']=c18_df['total rural']-c18_df['2 or more rural']\n",
    "c18_df['exactly 2 rural']=c18_df['total rural']-c18_df['3 or more rural']-c18_df['exactly 1 rural']\n",
    "c18_df['exactly 1 urban']=c18_df['total urban']-c18_df['2 or more urban']\n",
    "c18_df['exactly 2 urban']=c18_df['total urban']-c18_df['3 or more urban']-c18_df['exactly 1 urban']\n",
    "\n",
    "c18_df['u_to_r_1']=c18_df['exactly 1 urban']/c18_df['exactly 1 rural']\n",
    "c18_df['u_to_r_2']=c18_df['exactly 2 urban']/c18_df['exactly 2 rural']\n",
    "c18_df['u_to_r_3']=c18_df['3 or more urban']/c18_df['3 or more rural']\n",
    "c18_df['u_to_r']=c18_df['total urban']/c18_df['total rural']\n",
    "\n"
   ]
  },
  {
   "cell_type": "markdown",
   "id": "dfaabf86",
   "metadata": {},
   "source": [
    "\n",
    "### p-value calculation"
   ]
  },
  {
   "cell_type": "code",
   "execution_count": 7,
   "id": "5e49be06",
   "metadata": {},
   "outputs": [],
   "source": [
    "\n",
    "#note that p value will be same in all parts a,b and c because the arguments to calculate p-value will be same in all the parts\n",
    "from scipy.stats import ttest_ind\n",
    "from scipy import stats\n",
    "c18_df['p-value'] = c18_df.apply(lambda row: stats.ttest_1samp([row.u_to_r_1, row.u_to_r_2, row.u_to_r_3], popmean=row.u_to_r)[1], axis=1)\n"
   ]
  },
  {
   "cell_type": "markdown",
   "id": "07ae0950",
   "metadata": {},
   "source": [
    "## Part-c  3 or more languages"
   ]
  },
  {
   "cell_type": "code",
   "execution_count": 8,
   "id": "4aa82d32",
   "metadata": {},
   "outputs": [],
   "source": [
    "#creation of output file\n",
    "parta_df=c18_df[['state/ut','p-value']]\n",
    "parta_df['urban-percentage']=(c18_df['3 or more urban']/c18_df['total urban'])*100\n",
    "parta_df['rural-percentage']=(c18_df['3 or more rural']/c18_df['total rural'])*100\n",
    "parta_df=parta_df[['state/ut','urban-percentage','rural-percentage','p-value']]\n",
    "parta_df.rename(columns={'state/ut':'state-code'},inplace=True)\n",
    "parta_df.to_csv('output files/geography-india-c.csv',index=False)"
   ]
  },
  {
   "cell_type": "markdown",
   "id": "2ca38cd8",
   "metadata": {},
   "source": [
    "## Part-b  exactly 2 languages"
   ]
  },
  {
   "cell_type": "code",
   "execution_count": 9,
   "id": "60c48750",
   "metadata": {},
   "outputs": [],
   "source": [
    "#creation of output file\n",
    "partb_df=c18_df[['state/ut','p-value']]\n",
    "partb_df['urban-percentage']=(c18_df['exactly 2 urban']/c18_df['total urban'])*100\n",
    "partb_df['rural-percentage']=(c18_df['exactly 2 rural']/c18_df['total rural'])*100\n",
    "partb_df=partb_df[['state/ut','urban-percentage','rural-percentage','p-value']]\n",
    "partb_df.rename(columns={'state/ut':'state-code'},inplace=True)\n",
    "partb_df.to_csv('output files/geography-india-b.csv',index=False)"
   ]
  },
  {
   "cell_type": "markdown",
   "id": "b9fee995",
   "metadata": {},
   "source": [
    "## Part-a exactly 1 language"
   ]
  },
  {
   "cell_type": "code",
   "execution_count": 10,
   "id": "e847af68",
   "metadata": {},
   "outputs": [],
   "source": [
    "#creation of output file\n",
    "partc_df=c18_df[['state/ut','p-value']]\n",
    "partc_df['urban-percentage']=(c18_df['exactly 1 urban']/c18_df['total urban'])*100\n",
    "partc_df['rural-percentage']=(c18_df['exactly 1 rural']/c18_df['total rural'])*100\n",
    "partc_df=partc_df[['state/ut','urban-percentage','rural-percentage','p-value']]\n",
    "partc_df.rename(columns={'state/ut':'state-code'},inplace=True)\n",
    "partc_df.to_csv('output files/geography-india-a.csv',index=False)"
   ]
  },
  {
   "cell_type": "code",
   "execution_count": null,
   "id": "8f363f63",
   "metadata": {},
   "outputs": [],
   "source": []
  }
 ],
 "metadata": {
  "kernelspec": {
   "display_name": "Python 3",
   "language": "python",
   "name": "python3"
  },
  "language_info": {
   "codemirror_mode": {
    "name": "ipython",
    "version": 3
   },
   "file_extension": ".py",
   "mimetype": "text/x-python",
   "name": "python",
   "nbconvert_exporter": "python",
   "pygments_lexer": "ipython3",
   "version": "3.8.8"
  }
 },
 "nbformat": 4,
 "nbformat_minor": 5
}
