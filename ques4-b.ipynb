{
 "cells": [
  {
   "cell_type": "markdown",
   "id": "e272653e",
   "metadata": {},
   "source": [
    "## ques4-b"
   ]
  },
  {
   "cell_type": "code",
   "execution_count": 1,
   "id": "9a677522",
   "metadata": {},
   "outputs": [],
   "source": [
    "'''Note that ratio of population speaking three or more language to exactly two language is same as ratio of\n",
    "column 'percent three' to column 'percent two'. '''\n",
    "\n",
    "\n",
    "import pandas as pd\n",
    "\n",
    "pd.options.mode.chained_assignment = None   #to hide settingwithcopy warning\n",
    "\n",
    "#Here, I will use percent-india.csv file generated in ques1\n",
    "ques4_df1=pd.read_csv('output files/percent-india.csv')\n",
    "\n"
   ]
  },
  {
   "cell_type": "markdown",
   "id": "db896d77",
   "metadata": {},
   "source": [
    "$$\\frac{(percent \\quad two)}{(percent \\quad one)}=\\frac{\\text{(who speak exactly 2)*100/total population}}{\\text{(who speak excatly 1)*100/total population}}$$\n",
    "$$ $$\n",
    "$$=\\frac{\\text{who speak exactly 2}}{\\text{who speak exactly 1}}$$"
   ]
  },
  {
   "cell_type": "markdown",
   "id": "9cba317d",
   "metadata": {},
   "source": [
    "## ratio of population speaking language exactly two to exactly one"
   ]
  },
  {
   "cell_type": "code",
   "execution_count": 2,
   "id": "2da7512d",
   "metadata": {},
   "outputs": [],
   "source": [
    "#Here I will do same thing as ques4-a but with columns percent-two and percent-one\n",
    "ques4_df3=pd.read_csv('output files/percent-india.csv')\n",
    "ques4_df3['2 to 1 ratio']=ques4_df3['percent-two']/ques4_df3['percent-one']\n",
    "ques4_df3.sort_values(by=['2 to 1 ratio'],ascending=False,inplace=True)\n",
    "ques4_df4=ques4_df3.tail(n=3)\n",
    "ques4_df4.sort_values(by=['2 to 1 ratio'],inplace=True)\n",
    "ques4_df4=ques4_df4[['state-code']]\n",
    "ques4_df3=ques4_df3.head(n=3)\n",
    "ques4_df3=ques4_df3[['state-code']]\n",
    "ques4_df3=pd.merge(ques4_df3,ques4_df4,how='outer')\n",
    "ques4_df3.to_csv('output files/2-to-1-ratio.csv',index=False) #column name for this ques is not mentioned in assignment pdf. So I am naming it 'state-code'"
   ]
  },
  {
   "cell_type": "code",
   "execution_count": null,
   "id": "5ee7e0a5",
   "metadata": {},
   "outputs": [],
   "source": []
  }
 ],
 "metadata": {
  "kernelspec": {
   "display_name": "Python 3",
   "language": "python",
   "name": "python3"
  },
  "language_info": {
   "codemirror_mode": {
    "name": "ipython",
    "version": 3
   },
   "file_extension": ".py",
   "mimetype": "text/x-python",
   "name": "python",
   "nbconvert_exporter": "python",
   "pygments_lexer": "ipython3",
   "version": "3.8.8"
  }
 },
 "nbformat": 4,
 "nbformat_minor": 5
}
